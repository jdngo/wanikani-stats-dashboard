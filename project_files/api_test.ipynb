{
 "cells": [
  {
   "cell_type": "code",
   "execution_count": 1,
   "id": "369fd1f5-9d29-4c83-a17a-cb6c8f25df20",
   "metadata": {},
   "outputs": [],
   "source": [
    "import pandas as pd\n",
    "import wanikani_helpers"
   ]
  },
  {
   "cell_type": "code",
   "execution_count": 2,
   "id": "a0638fb1-ed6f-467a-87c1-5dd4a0bbebb5",
   "metadata": {},
   "outputs": [],
   "source": [
    "api_key = \"dd33b5df-77a1-4a59-aafe-fb841bc70a41\"\n",
    "# api_key = \"18068cd5-e590-49be-9bda-7f757eb6972f\""
   ]
  },
  {
   "cell_type": "markdown",
   "id": "ad8a81a1-6ab1-47b2-9272-1ec8af8ab3d9",
   "metadata": {},
   "source": [
    "### Levels"
   ]
  },
  {
   "cell_type": "code",
   "execution_count": 3,
   "id": "339c707e-93a7-4e05-b215-7e92ca6216d4",
   "metadata": {},
   "outputs": [
    {
     "name": "stdout",
     "output_type": "stream",
     "text": [
      "{1: {'started_datetime': datetime.datetime(2021, 3, 20, 9, 13, 21, 20325, tzinfo=<DstTzInfo 'America/Los_Angeles' PDT-1 day, 17:00:00 DST>), 'passed_datetime': datetime.datetime(2021, 3, 26, 18, 49, 9, 236973, tzinfo=<DstTzInfo 'America/Los_Angeles' PDT-1 day, 17:00:00 DST>), 'elapsed_time': datetime.timedelta(days=6, seconds=34548, microseconds=216648)}, 2: {'started_datetime': datetime.datetime(2021, 3, 26, 23, 4, 38, 604931, tzinfo=<DstTzInfo 'America/Los_Angeles' PDT-1 day, 17:00:00 DST>), 'passed_datetime': datetime.datetime(2021, 3, 31, 15, 24, 21, 82388, tzinfo=<DstTzInfo 'America/Los_Angeles' PDT-1 day, 17:00:00 DST>), 'elapsed_time': datetime.timedelta(days=4, seconds=58782, microseconds=477457)}, 3: {'started_datetime': datetime.datetime(2021, 3, 31, 16, 58, 44, 593711, tzinfo=<DstTzInfo 'America/Los_Angeles' PDT-1 day, 17:00:00 DST>), 'passed_datetime': datetime.datetime(2021, 4, 8, 10, 12, 48, 855499, tzinfo=<DstTzInfo 'America/Los_Angeles' PDT-1 day, 17:00:00 DST>), 'elapsed_time': datetime.timedelta(days=7, seconds=62044, microseconds=261788)}, 4: {'started_datetime': datetime.datetime(2021, 4, 8, 17, 38, 43, 439635, tzinfo=<DstTzInfo 'America/Los_Angeles' PDT-1 day, 17:00:00 DST>), 'passed_datetime': datetime.datetime(2021, 4, 16, 20, 18, 18, 175991, tzinfo=<DstTzInfo 'America/Los_Angeles' PDT-1 day, 17:00:00 DST>), 'elapsed_time': datetime.timedelta(days=8, seconds=9574, microseconds=736356)}, 5: {'started_datetime': datetime.datetime(2021, 4, 18, 19, 44, 26, 304270, tzinfo=<DstTzInfo 'America/Los_Angeles' PDT-1 day, 17:00:00 DST>), 'passed_datetime': datetime.datetime(2021, 5, 1, 16, 3, 56, 731825, tzinfo=<DstTzInfo 'America/Los_Angeles' PDT-1 day, 17:00:00 DST>), 'elapsed_time': datetime.timedelta(days=12, seconds=73170, microseconds=427555)}, 6: {'started_datetime': datetime.datetime(2021, 5, 2, 21, 59, 14, 309753, tzinfo=<DstTzInfo 'America/Los_Angeles' PDT-1 day, 17:00:00 DST>), 'passed_datetime': datetime.datetime(2021, 5, 17, 21, 30, 30, 472483, tzinfo=<DstTzInfo 'America/Los_Angeles' PDT-1 day, 17:00:00 DST>), 'elapsed_time': datetime.timedelta(days=14, seconds=84676, microseconds=162730)}, 7: {'started_datetime': datetime.datetime(2021, 5, 18, 14, 33, 45, 821073, tzinfo=<DstTzInfo 'America/Los_Angeles' PDT-1 day, 17:00:00 DST>), 'passed_datetime': datetime.datetime(2021, 6, 3, 23, 7, 19, 996509, tzinfo=<DstTzInfo 'America/Los_Angeles' PDT-1 day, 17:00:00 DST>), 'elapsed_time': datetime.timedelta(days=16, seconds=30814, microseconds=175436)}, 8: {'started_datetime': datetime.datetime(2021, 6, 6, 23, 45, 52, 116649, tzinfo=<DstTzInfo 'America/Los_Angeles' PDT-1 day, 17:00:00 DST>), 'passed_datetime': datetime.datetime(2021, 6, 22, 17, 22, 48, 747555, tzinfo=<DstTzInfo 'America/Los_Angeles' PDT-1 day, 17:00:00 DST>), 'elapsed_time': datetime.timedelta(days=15, seconds=63416, microseconds=630906)}, 9: {'started_datetime': datetime.datetime(2021, 7, 5, 21, 54, 15, 351987, tzinfo=<DstTzInfo 'America/Los_Angeles' PDT-1 day, 17:00:00 DST>), 'passed_datetime': datetime.datetime(2021, 8, 17, 22, 37, 41, 262055, tzinfo=<DstTzInfo 'America/Los_Angeles' PDT-1 day, 17:00:00 DST>), 'elapsed_time': datetime.timedelta(days=43, seconds=2605, microseconds=910068)}, 10: {'started_datetime': datetime.datetime(2021, 8, 21, 23, 44, 10, 469851, tzinfo=<DstTzInfo 'America/Los_Angeles' PDT-1 day, 17:00:00 DST>), 'passed_datetime': datetime.datetime(2021, 9, 1, 23, 45, 11, 855984, tzinfo=<DstTzInfo 'America/Los_Angeles' PDT-1 day, 17:00:00 DST>), 'elapsed_time': datetime.timedelta(days=11, seconds=61, microseconds=386133)}, 11: {'started_datetime': datetime.datetime(2021, 9, 4, 18, 13, 37, 734467, tzinfo=<DstTzInfo 'America/Los_Angeles' PDT-1 day, 17:00:00 DST>), 'passed_datetime': datetime.datetime(2021, 9, 16, 1, 5, 19, 72930, tzinfo=<DstTzInfo 'America/Los_Angeles' PDT-1 day, 17:00:00 DST>), 'elapsed_time': datetime.timedelta(days=11, seconds=24701, microseconds=338463)}, 12: {'started_datetime': datetime.datetime(2021, 9, 17, 21, 3, 39, 388032, tzinfo=<DstTzInfo 'America/Los_Angeles' PDT-1 day, 17:00:00 DST>), 'passed_datetime': datetime.datetime(2021, 9, 29, 0, 58, 5, 317685, tzinfo=<DstTzInfo 'America/Los_Angeles' PDT-1 day, 17:00:00 DST>), 'elapsed_time': datetime.timedelta(days=11, seconds=14065, microseconds=929653)}, 13: {'started_datetime': datetime.datetime(2021, 10, 24, 19, 45, 13, 831514, tzinfo=<DstTzInfo 'America/Los_Angeles' PDT-1 day, 17:00:00 DST>), 'passed_datetime': datetime.datetime(2021, 11, 25, 0, 41, 42, 489559, tzinfo=<DstTzInfo 'America/Los_Angeles' PST-1 day, 16:00:00 STD>), 'elapsed_time': datetime.timedelta(days=31, seconds=21388, microseconds=658045)}, 14: {'started_datetime': datetime.datetime(2021, 12, 20, 10, 34, 3, 174699, tzinfo=<DstTzInfo 'America/Los_Angeles' PST-1 day, 16:00:00 STD>), 'passed_datetime': datetime.datetime(2022, 1, 9, 16, 0, 53, 486515, tzinfo=<DstTzInfo 'America/Los_Angeles' PST-1 day, 16:00:00 STD>), 'elapsed_time': datetime.timedelta(days=20, seconds=19610, microseconds=311816)}, 15: {'started_datetime': datetime.datetime(2022, 1, 17, 18, 17, 12, 178415, tzinfo=<DstTzInfo 'America/Los_Angeles' PST-1 day, 16:00:00 STD>), 'passed_datetime': datetime.datetime(2022, 1, 26, 12, 1, 27, 196374, tzinfo=<DstTzInfo 'America/Los_Angeles' PST-1 day, 16:00:00 STD>), 'elapsed_time': datetime.timedelta(days=8, seconds=63855, microseconds=17959)}, 16: {'started_datetime': datetime.datetime(2022, 1, 27, 0, 40, 55, 496664, tzinfo=<DstTzInfo 'America/Los_Angeles' PST-1 day, 16:00:00 STD>), 'passed_datetime': datetime.datetime(2022, 2, 13, 16, 30, 42, 909534, tzinfo=<DstTzInfo 'America/Los_Angeles' PST-1 day, 16:00:00 STD>), 'elapsed_time': datetime.timedelta(days=17, seconds=56987, microseconds=412870)}, 17: {'started_datetime': None, 'passed_datetime': None, 'elapsed_time': None}}\n"
     ]
    }
   ],
   "source": [
    "levels = wanikani_helpers.get_levels(api_key)\n",
    "\n",
    "print(levels)"
   ]
  },
  {
   "cell_type": "code",
   "execution_count": 4,
   "id": "df1f521b-898c-4d1b-8251-4fcf8ad16d86",
   "metadata": {},
   "outputs": [
    {
     "data": {
      "text/plain": [
       "{'mean': 15.1,\n",
       " 'median': 12.1,\n",
       " 'variance': 91.0,\n",
       " 'standard_deviation': 9.5,\n",
       " 'min': 4.7,\n",
       " 'max': 43.0}"
      ]
     },
     "execution_count": 4,
     "metadata": {},
     "output_type": "execute_result"
    }
   ],
   "source": [
    "wanikani_helpers.get_level_up_stats(levels)"
   ]
  },
  {
   "cell_type": "code",
   "execution_count": 5,
   "id": "ef32d1ac-9e96-4224-8968-47b5a5f36951",
   "metadata": {},
   "outputs": [
    {
     "data": {
      "text/plain": [
       "{'radical': 288, 'kanji': 523, 'vocabulary': 1610}"
      ]
     },
     "execution_count": 5,
     "metadata": {},
     "output_type": "execute_result"
    }
   ],
   "source": [
    "wanikani_helpers.get_learned_counts(api_key)"
   ]
  },
  {
   "cell_type": "code",
   "execution_count": null,
   "id": "23e48d76-f498-43ad-8fa0-83f5e9535c00",
   "metadata": {},
   "outputs": [],
   "source": []
  }
 ],
 "metadata": {
  "kernelspec": {
   "display_name": "Python 3 (ipykernel)",
   "language": "python",
   "name": "python3"
  },
  "language_info": {
   "codemirror_mode": {
    "name": "ipython",
    "version": 3
   },
   "file_extension": ".py",
   "mimetype": "text/x-python",
   "name": "python",
   "nbconvert_exporter": "python",
   "pygments_lexer": "ipython3",
   "version": "3.9.13"
  }
 },
 "nbformat": 4,
 "nbformat_minor": 5
}
