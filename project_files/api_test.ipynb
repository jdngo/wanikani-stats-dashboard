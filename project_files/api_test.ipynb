{
 "cells": [
  {
   "cell_type": "code",
   "execution_count": 1,
   "id": "369fd1f5-9d29-4c83-a17a-cb6c8f25df20",
   "metadata": {},
   "outputs": [],
   "source": [
    "import pandas as pd\n",
    "import wanikani_helpers"
   ]
  },
  {
   "cell_type": "code",
   "execution_count": 2,
   "id": "a0638fb1-ed6f-467a-87c1-5dd4a0bbebb5",
   "metadata": {},
   "outputs": [],
   "source": [
    "api_key = \"dd33b5df-77a1-4a59-aafe-fb841bc70a41\"\n",
    "# api_key = \"18068cd5-e590-49be-9bda-7f757eb6972f\""
   ]
  },
  {
   "cell_type": "code",
   "execution_count": 3,
   "id": "a1be7b5b-76b8-44c1-98a9-55cd29bcf030",
   "metadata": {},
   "outputs": [
    {
     "name": "stdout",
     "output_type": "stream",
     "text": [
      "testtest\n"
     ]
    }
   ],
   "source": [
    "def x():\n",
    "    print(\n",
    "        f'test'\n",
    "        f'test'\n",
    "    )\n",
    "\n",
    "x()"
   ]
  },
  {
   "cell_type": "code",
   "execution_count": 1,
   "id": "a7f2a8f8-6a31-4946-b80c-039dce215839",
   "metadata": {},
   "outputs": [],
   "source": [
    "import requests"
   ]
  },
  {
   "cell_type": "code",
   "execution_count": 2,
   "id": "84bc8b5a-b859-4cbf-a74f-15b1abe49c27",
   "metadata": {},
   "outputs": [
    {
     "data": {
      "text/plain": [
       "[{'id': 1512109,\n",
       "  'object': 'level_progression',\n",
       "  'url': 'https://api.wanikani.com/v2/level_progressions/1512109',\n",
       "  'data_updated_at': '2021-03-27T01:49:09.241084Z',\n",
       "  'data': {'created_at': '2021-03-20T16:11:07.482758Z',\n",
       "   'level': 1,\n",
       "   'unlocked_at': '2021-03-20T16:11:07.480980Z',\n",
       "   'started_at': '2021-03-20T16:13:21.020325Z',\n",
       "   'passed_at': '2021-03-27T01:49:09.236973Z',\n",
       "   'completed_at': None,\n",
       "   'abandoned_at': None}},\n",
       " {'id': 1523491,\n",
       "  'object': 'level_progression',\n",
       "  'url': 'https://api.wanikani.com/v2/level_progressions/1523491',\n",
       "  'data_updated_at': '2021-03-31T22:24:21.131340Z',\n",
       "  'data': {'created_at': '2021-03-27T01:49:09.296773Z',\n",
       "   'level': 2,\n",
       "   'unlocked_at': '2021-03-27T01:49:09.288106Z',\n",
       "   'started_at': '2021-03-27T06:04:38.604931Z',\n",
       "   'passed_at': '2021-03-31T22:24:21.082388Z',\n",
       "   'completed_at': None,\n",
       "   'abandoned_at': None}},\n",
       " {'id': 1531702,\n",
       "  'object': 'level_progression',\n",
       "  'url': 'https://api.wanikani.com/v2/level_progressions/1531702',\n",
       "  'data_updated_at': '2021-04-08T17:12:48.866445Z',\n",
       "  'data': {'created_at': '2021-03-31T22:24:21.412383Z',\n",
       "   'level': 3,\n",
       "   'unlocked_at': '2021-03-31T22:24:21.373592Z',\n",
       "   'started_at': '2021-03-31T23:58:44.593711Z',\n",
       "   'passed_at': '2021-04-08T17:12:48.855499Z',\n",
       "   'completed_at': None,\n",
       "   'abandoned_at': None}},\n",
       " {'id': 1544664,\n",
       "  'object': 'level_progression',\n",
       "  'url': 'https://api.wanikani.com/v2/level_progressions/1544664',\n",
       "  'data_updated_at': '2021-04-17T03:18:18.204470Z',\n",
       "  'data': {'created_at': '2021-04-08T17:12:48.923417Z',\n",
       "   'level': 4,\n",
       "   'unlocked_at': '2021-04-08T17:12:48.913260Z',\n",
       "   'started_at': '2021-04-09T00:38:43.439635Z',\n",
       "   'passed_at': '2021-04-17T03:18:18.175991Z',\n",
       "   'completed_at': None,\n",
       "   'abandoned_at': None}},\n",
       " {'id': 1558724,\n",
       "  'object': 'level_progression',\n",
       "  'url': 'https://api.wanikani.com/v2/level_progressions/1558724',\n",
       "  'data_updated_at': '2021-05-01T23:03:56.742874Z',\n",
       "  'data': {'created_at': '2021-04-17T03:18:18.344436Z',\n",
       "   'level': 5,\n",
       "   'unlocked_at': '2021-04-17T03:18:18.318282Z',\n",
       "   'started_at': '2021-04-19T02:44:26.304270Z',\n",
       "   'passed_at': '2021-05-01T23:03:56.731825Z',\n",
       "   'completed_at': None,\n",
       "   'abandoned_at': None}},\n",
       " {'id': 1582581,\n",
       "  'object': 'level_progression',\n",
       "  'url': 'https://api.wanikani.com/v2/level_progressions/1582581',\n",
       "  'data_updated_at': '2021-05-18T04:30:30.483259Z',\n",
       "  'data': {'created_at': '2021-05-01T23:03:56.806352Z',\n",
       "   'level': 6,\n",
       "   'unlocked_at': '2021-05-01T23:03:56.795423Z',\n",
       "   'started_at': '2021-05-03T04:59:14.309753Z',\n",
       "   'passed_at': '2021-05-18T04:30:30.472483Z',\n",
       "   'completed_at': None,\n",
       "   'abandoned_at': None}},\n",
       " {'id': 1608001,\n",
       "  'object': 'level_progression',\n",
       "  'url': 'https://api.wanikani.com/v2/level_progressions/1608001',\n",
       "  'data_updated_at': '2021-06-04T06:07:20.007726Z',\n",
       "  'data': {'created_at': '2021-05-18T04:30:30.530621Z',\n",
       "   'level': 7,\n",
       "   'unlocked_at': '2021-05-18T04:30:30.524513Z',\n",
       "   'started_at': '2021-05-18T21:33:45.821073Z',\n",
       "   'passed_at': '2021-06-04T06:07:19.996509Z',\n",
       "   'completed_at': None,\n",
       "   'abandoned_at': None}},\n",
       " {'id': 1634515,\n",
       "  'object': 'level_progression',\n",
       "  'url': 'https://api.wanikani.com/v2/level_progressions/1634515',\n",
       "  'data_updated_at': '2021-06-23T00:22:48.758596Z',\n",
       "  'data': {'created_at': '2021-06-04T06:07:20.093966Z',\n",
       "   'level': 8,\n",
       "   'unlocked_at': '2021-06-04T06:07:20.084714Z',\n",
       "   'started_at': '2021-06-07T06:45:52.116649Z',\n",
       "   'passed_at': '2021-06-23T00:22:48.747555Z',\n",
       "   'completed_at': None,\n",
       "   'abandoned_at': None}},\n",
       " {'id': 1662523,\n",
       "  'object': 'level_progression',\n",
       "  'url': 'https://api.wanikani.com/v2/level_progressions/1662523',\n",
       "  'data_updated_at': '2021-08-18T05:37:41.285564Z',\n",
       "  'data': {'created_at': '2021-06-23T00:22:48.878614Z',\n",
       "   'level': 9,\n",
       "   'unlocked_at': '2021-06-23T00:22:48.867968Z',\n",
       "   'started_at': '2021-07-06T04:54:15.351987Z',\n",
       "   'passed_at': '2021-08-18T05:37:41.262055Z',\n",
       "   'completed_at': None,\n",
       "   'abandoned_at': None}},\n",
       " {'id': 1744848,\n",
       "  'object': 'level_progression',\n",
       "  'url': 'https://api.wanikani.com/v2/level_progressions/1744848',\n",
       "  'data_updated_at': '2021-09-02T06:45:11.863245Z',\n",
       "  'data': {'created_at': '2021-08-18T05:37:41.444943Z',\n",
       "   'level': 10,\n",
       "   'unlocked_at': '2021-08-18T05:37:41.394431Z',\n",
       "   'started_at': '2021-08-22T06:44:10.469851Z',\n",
       "   'passed_at': '2021-09-02T06:45:11.855984Z',\n",
       "   'completed_at': None,\n",
       "   'abandoned_at': None}},\n",
       " {'id': 1766413,\n",
       "  'object': 'level_progression',\n",
       "  'url': 'https://api.wanikani.com/v2/level_progressions/1766413',\n",
       "  'data_updated_at': '2021-09-16T08:05:19.079131Z',\n",
       "  'data': {'created_at': '2021-09-02T06:45:11.930778Z',\n",
       "   'level': 11,\n",
       "   'unlocked_at': '2021-09-02T06:45:11.925403Z',\n",
       "   'started_at': '2021-09-05T01:13:37.734467Z',\n",
       "   'passed_at': '2021-09-16T08:05:19.072930Z',\n",
       "   'completed_at': None,\n",
       "   'abandoned_at': None}},\n",
       " {'id': 1785364,\n",
       "  'object': 'level_progression',\n",
       "  'url': 'https://api.wanikani.com/v2/level_progressions/1785364',\n",
       "  'data_updated_at': '2021-09-29T07:58:05.325202Z',\n",
       "  'data': {'created_at': '2021-09-16T08:05:19.110805Z',\n",
       "   'level': 12,\n",
       "   'unlocked_at': '2021-09-16T08:05:19.106413Z',\n",
       "   'started_at': '2021-09-18T04:03:39.388032Z',\n",
       "   'passed_at': '2021-09-29T07:58:05.317685Z',\n",
       "   'completed_at': None,\n",
       "   'abandoned_at': None}},\n",
       " {'id': 1803010,\n",
       "  'object': 'level_progression',\n",
       "  'url': 'https://api.wanikani.com/v2/level_progressions/1803010',\n",
       "  'data_updated_at': '2021-11-25T08:41:42.495820Z',\n",
       "  'data': {'created_at': '2021-09-29T07:58:05.359798Z',\n",
       "   'level': 13,\n",
       "   'unlocked_at': '2021-09-29T07:58:05.354332Z',\n",
       "   'started_at': '2021-10-25T02:45:13.831514Z',\n",
       "   'passed_at': '2021-11-25T08:41:42.489559Z',\n",
       "   'completed_at': None,\n",
       "   'abandoned_at': None}},\n",
       " {'id': 1875795,\n",
       "  'object': 'level_progression',\n",
       "  'url': 'https://api.wanikani.com/v2/level_progressions/1875795',\n",
       "  'data_updated_at': '2022-01-10T00:00:53.505954Z',\n",
       "  'data': {'created_at': '2021-11-25T08:41:42.531463Z',\n",
       "   'level': 14,\n",
       "   'unlocked_at': '2021-11-25T08:41:42.526172Z',\n",
       "   'started_at': '2021-12-20T18:34:03.174699Z',\n",
       "   'passed_at': '2022-01-10T00:00:53.486515Z',\n",
       "   'completed_at': None,\n",
       "   'abandoned_at': None}},\n",
       " {'id': 1934492,\n",
       "  'object': 'level_progression',\n",
       "  'url': 'https://api.wanikani.com/v2/level_progressions/1934492',\n",
       "  'data_updated_at': '2022-01-26T20:01:27.214845Z',\n",
       "  'data': {'created_at': '2022-01-10T00:00:53.619515Z',\n",
       "   'level': 15,\n",
       "   'unlocked_at': '2022-01-10T00:00:53.599810Z',\n",
       "   'started_at': '2022-01-18T02:17:12.178415Z',\n",
       "   'passed_at': '2022-01-26T20:01:27.196374Z',\n",
       "   'completed_at': None,\n",
       "   'abandoned_at': None}},\n",
       " {'id': 1959886,\n",
       "  'object': 'level_progression',\n",
       "  'url': 'https://api.wanikani.com/v2/level_progressions/1959886',\n",
       "  'data_updated_at': '2022-02-14T00:30:42.917711Z',\n",
       "  'data': {'created_at': '2022-01-26T20:01:27.329034Z',\n",
       "   'level': 16,\n",
       "   'unlocked_at': '2022-01-26T20:01:27.323064Z',\n",
       "   'started_at': '2022-01-27T08:40:55.496664Z',\n",
       "   'passed_at': '2022-02-14T00:30:42.909534Z',\n",
       "   'completed_at': None,\n",
       "   'abandoned_at': None}},\n",
       " {'id': 1986917,\n",
       "  'object': 'level_progression',\n",
       "  'url': 'https://api.wanikani.com/v2/level_progressions/1986917',\n",
       "  'data_updated_at': '2022-02-14T00:30:42.974725Z',\n",
       "  'data': {'created_at': '2022-02-14T00:30:42.974725Z',\n",
       "   'level': 17,\n",
       "   'unlocked_at': '2022-02-14T00:30:42.966507Z',\n",
       "   'started_at': None,\n",
       "   'passed_at': None,\n",
       "   'completed_at': None,\n",
       "   'abandoned_at': None}}]"
      ]
     },
     "execution_count": 2,
     "metadata": {},
     "output_type": "execute_result"
    }
   ],
   "source": [
    "requests.get(\n",
    "    url = \"https://api.wanikani.com/v2/level_progressions\",\n",
    "    params = {},\n",
    "    headers = {\n",
    "        \"Wanikani-Revision\": \"20170710\",\n",
    "        \"Authorization\": f\"Bearer dd33b5df-77a1-4a59-aafe-fb841bc70a41\"\n",
    "    }\n",
    ").json()[\"data\"]"
   ]
  },
  {
   "cell_type": "code",
   "execution_count": 3,
   "id": "3a3352b5-2917-4126-b863-a699c65fe2b1",
   "metadata": {},
   "outputs": [],
   "source": [
    "import pandas as pd"
   ]
  },
  {
   "cell_type": "code",
   "execution_count": 8,
   "id": "14a12928-4766-4561-af29-4ce61543cfc8",
   "metadata": {},
   "outputs": [
    {
     "data": {
      "text/plain": [
       "0"
      ]
     },
     "execution_count": 8,
     "metadata": {},
     "output_type": "execute_result"
    }
   ],
   "source": [
    "df = pd.DataFrame(columns = (\"item\", \"stage\", \"count\"))\n",
    "\n",
    "len(df.index)"
   ]
  },
  {
   "cell_type": "code",
   "execution_count": null,
   "id": "9bd4dad5-6b29-49aa-90c2-482ff0f0c4f1",
   "metadata": {},
   "outputs": [],
   "source": []
  },
  {
   "cell_type": "code",
   "execution_count": null,
   "id": "39b7aed1-049d-4035-9251-cad62960c6f9",
   "metadata": {},
   "outputs": [],
   "source": []
  },
  {
   "cell_type": "markdown",
   "id": "ad8a81a1-6ab1-47b2-9272-1ec8af8ab3d9",
   "metadata": {},
   "source": [
    "### Levels"
   ]
  },
  {
   "cell_type": "code",
   "execution_count": 3,
   "id": "339c707e-93a7-4e05-b215-7e92ca6216d4",
   "metadata": {},
   "outputs": [
    {
     "name": "stdout",
     "output_type": "stream",
     "text": [
      "{1: {'started_datetime': datetime.datetime(2021, 3, 20, 9, 13, 21, 20325, tzinfo=<DstTzInfo 'America/Los_Angeles' PDT-1 day, 17:00:00 DST>), 'passed_datetime': datetime.datetime(2021, 3, 26, 18, 49, 9, 236973, tzinfo=<DstTzInfo 'America/Los_Angeles' PDT-1 day, 17:00:00 DST>), 'elapsed_time': datetime.timedelta(days=6, seconds=34548, microseconds=216648)}, 2: {'started_datetime': datetime.datetime(2021, 3, 26, 23, 4, 38, 604931, tzinfo=<DstTzInfo 'America/Los_Angeles' PDT-1 day, 17:00:00 DST>), 'passed_datetime': datetime.datetime(2021, 3, 31, 15, 24, 21, 82388, tzinfo=<DstTzInfo 'America/Los_Angeles' PDT-1 day, 17:00:00 DST>), 'elapsed_time': datetime.timedelta(days=4, seconds=58782, microseconds=477457)}, 3: {'started_datetime': datetime.datetime(2021, 3, 31, 16, 58, 44, 593711, tzinfo=<DstTzInfo 'America/Los_Angeles' PDT-1 day, 17:00:00 DST>), 'passed_datetime': datetime.datetime(2021, 4, 8, 10, 12, 48, 855499, tzinfo=<DstTzInfo 'America/Los_Angeles' PDT-1 day, 17:00:00 DST>), 'elapsed_time': datetime.timedelta(days=7, seconds=62044, microseconds=261788)}, 4: {'started_datetime': datetime.datetime(2021, 4, 8, 17, 38, 43, 439635, tzinfo=<DstTzInfo 'America/Los_Angeles' PDT-1 day, 17:00:00 DST>), 'passed_datetime': datetime.datetime(2021, 4, 16, 20, 18, 18, 175991, tzinfo=<DstTzInfo 'America/Los_Angeles' PDT-1 day, 17:00:00 DST>), 'elapsed_time': datetime.timedelta(days=8, seconds=9574, microseconds=736356)}, 5: {'started_datetime': datetime.datetime(2021, 4, 18, 19, 44, 26, 304270, tzinfo=<DstTzInfo 'America/Los_Angeles' PDT-1 day, 17:00:00 DST>), 'passed_datetime': datetime.datetime(2021, 5, 1, 16, 3, 56, 731825, tzinfo=<DstTzInfo 'America/Los_Angeles' PDT-1 day, 17:00:00 DST>), 'elapsed_time': datetime.timedelta(days=12, seconds=73170, microseconds=427555)}, 6: {'started_datetime': datetime.datetime(2021, 5, 2, 21, 59, 14, 309753, tzinfo=<DstTzInfo 'America/Los_Angeles' PDT-1 day, 17:00:00 DST>), 'passed_datetime': datetime.datetime(2021, 5, 17, 21, 30, 30, 472483, tzinfo=<DstTzInfo 'America/Los_Angeles' PDT-1 day, 17:00:00 DST>), 'elapsed_time': datetime.timedelta(days=14, seconds=84676, microseconds=162730)}, 7: {'started_datetime': datetime.datetime(2021, 5, 18, 14, 33, 45, 821073, tzinfo=<DstTzInfo 'America/Los_Angeles' PDT-1 day, 17:00:00 DST>), 'passed_datetime': datetime.datetime(2021, 6, 3, 23, 7, 19, 996509, tzinfo=<DstTzInfo 'America/Los_Angeles' PDT-1 day, 17:00:00 DST>), 'elapsed_time': datetime.timedelta(days=16, seconds=30814, microseconds=175436)}, 8: {'started_datetime': datetime.datetime(2021, 6, 6, 23, 45, 52, 116649, tzinfo=<DstTzInfo 'America/Los_Angeles' PDT-1 day, 17:00:00 DST>), 'passed_datetime': datetime.datetime(2021, 6, 22, 17, 22, 48, 747555, tzinfo=<DstTzInfo 'America/Los_Angeles' PDT-1 day, 17:00:00 DST>), 'elapsed_time': datetime.timedelta(days=15, seconds=63416, microseconds=630906)}, 9: {'started_datetime': datetime.datetime(2021, 7, 5, 21, 54, 15, 351987, tzinfo=<DstTzInfo 'America/Los_Angeles' PDT-1 day, 17:00:00 DST>), 'passed_datetime': datetime.datetime(2021, 8, 17, 22, 37, 41, 262055, tzinfo=<DstTzInfo 'America/Los_Angeles' PDT-1 day, 17:00:00 DST>), 'elapsed_time': datetime.timedelta(days=43, seconds=2605, microseconds=910068)}, 10: {'started_datetime': datetime.datetime(2021, 8, 21, 23, 44, 10, 469851, tzinfo=<DstTzInfo 'America/Los_Angeles' PDT-1 day, 17:00:00 DST>), 'passed_datetime': datetime.datetime(2021, 9, 1, 23, 45, 11, 855984, tzinfo=<DstTzInfo 'America/Los_Angeles' PDT-1 day, 17:00:00 DST>), 'elapsed_time': datetime.timedelta(days=11, seconds=61, microseconds=386133)}, 11: {'started_datetime': datetime.datetime(2021, 9, 4, 18, 13, 37, 734467, tzinfo=<DstTzInfo 'America/Los_Angeles' PDT-1 day, 17:00:00 DST>), 'passed_datetime': datetime.datetime(2021, 9, 16, 1, 5, 19, 72930, tzinfo=<DstTzInfo 'America/Los_Angeles' PDT-1 day, 17:00:00 DST>), 'elapsed_time': datetime.timedelta(days=11, seconds=24701, microseconds=338463)}, 12: {'started_datetime': datetime.datetime(2021, 9, 17, 21, 3, 39, 388032, tzinfo=<DstTzInfo 'America/Los_Angeles' PDT-1 day, 17:00:00 DST>), 'passed_datetime': datetime.datetime(2021, 9, 29, 0, 58, 5, 317685, tzinfo=<DstTzInfo 'America/Los_Angeles' PDT-1 day, 17:00:00 DST>), 'elapsed_time': datetime.timedelta(days=11, seconds=14065, microseconds=929653)}, 13: {'started_datetime': datetime.datetime(2021, 10, 24, 19, 45, 13, 831514, tzinfo=<DstTzInfo 'America/Los_Angeles' PDT-1 day, 17:00:00 DST>), 'passed_datetime': datetime.datetime(2021, 11, 25, 0, 41, 42, 489559, tzinfo=<DstTzInfo 'America/Los_Angeles' PST-1 day, 16:00:00 STD>), 'elapsed_time': datetime.timedelta(days=31, seconds=21388, microseconds=658045)}, 14: {'started_datetime': datetime.datetime(2021, 12, 20, 10, 34, 3, 174699, tzinfo=<DstTzInfo 'America/Los_Angeles' PST-1 day, 16:00:00 STD>), 'passed_datetime': datetime.datetime(2022, 1, 9, 16, 0, 53, 486515, tzinfo=<DstTzInfo 'America/Los_Angeles' PST-1 day, 16:00:00 STD>), 'elapsed_time': datetime.timedelta(days=20, seconds=19610, microseconds=311816)}, 15: {'started_datetime': datetime.datetime(2022, 1, 17, 18, 17, 12, 178415, tzinfo=<DstTzInfo 'America/Los_Angeles' PST-1 day, 16:00:00 STD>), 'passed_datetime': datetime.datetime(2022, 1, 26, 12, 1, 27, 196374, tzinfo=<DstTzInfo 'America/Los_Angeles' PST-1 day, 16:00:00 STD>), 'elapsed_time': datetime.timedelta(days=8, seconds=63855, microseconds=17959)}, 16: {'started_datetime': datetime.datetime(2022, 1, 27, 0, 40, 55, 496664, tzinfo=<DstTzInfo 'America/Los_Angeles' PST-1 day, 16:00:00 STD>), 'passed_datetime': datetime.datetime(2022, 2, 13, 16, 30, 42, 909534, tzinfo=<DstTzInfo 'America/Los_Angeles' PST-1 day, 16:00:00 STD>), 'elapsed_time': datetime.timedelta(days=17, seconds=56987, microseconds=412870)}, 17: {'started_datetime': None, 'passed_datetime': None, 'elapsed_time': None}}\n"
     ]
    }
   ],
   "source": [
    "levels = wanikani_helpers.get_levels(api_key)\n",
    "\n",
    "print(levels)"
   ]
  },
  {
   "cell_type": "code",
   "execution_count": 4,
   "id": "df1f521b-898c-4d1b-8251-4fcf8ad16d86",
   "metadata": {},
   "outputs": [
    {
     "data": {
      "text/plain": [
       "{'mean': 15.1,\n",
       " 'median': 12.1,\n",
       " 'variance': 91.0,\n",
       " 'standard_deviation': 9.5,\n",
       " 'min': 4.7,\n",
       " 'max': 43.0}"
      ]
     },
     "execution_count": 4,
     "metadata": {},
     "output_type": "execute_result"
    }
   ],
   "source": [
    "wanikani_helpers.get_level_up_stats(levels)"
   ]
  },
  {
   "cell_type": "code",
   "execution_count": 5,
   "id": "ef32d1ac-9e96-4224-8968-47b5a5f36951",
   "metadata": {},
   "outputs": [
    {
     "data": {
      "text/plain": [
       "{'radical': 288, 'kanji': 523, 'vocabulary': 1610}"
      ]
     },
     "execution_count": 5,
     "metadata": {},
     "output_type": "execute_result"
    }
   ],
   "source": [
    "wanikani_helpers.get_learned_counts(api_key)"
   ]
  },
  {
   "cell_type": "code",
   "execution_count": 3,
   "id": "23e48d76-f498-43ad-8fa0-83f5e9535c00",
   "metadata": {},
   "outputs": [
    {
     "data": {
      "text/plain": [
       "False"
      ]
     },
     "execution_count": 3,
     "metadata": {},
     "output_type": "execute_result"
    }
   ],
   "source": [
    "x, y = None, 1\n",
    "(x, y) == (None, None)"
   ]
  },
  {
   "cell_type": "code",
   "execution_count": null,
   "id": "a2b6f122-3ebe-4f2c-a193-3260d2daa229",
   "metadata": {},
   "outputs": [],
   "source": []
  }
 ],
 "metadata": {
  "kernelspec": {
   "display_name": "Python 3 (ipykernel)",
   "language": "python",
   "name": "python3"
  },
  "language_info": {
   "codemirror_mode": {
    "name": "ipython",
    "version": 3
   },
   "file_extension": ".py",
   "mimetype": "text/x-python",
   "name": "python",
   "nbconvert_exporter": "python",
   "pygments_lexer": "ipython3",
   "version": "3.9.13"
  }
 },
 "nbformat": 4,
 "nbformat_minor": 5
}
